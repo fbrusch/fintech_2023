{
 "cells": [
  {
   "cell_type": "code",
   "execution_count": 1,
   "id": "a9526b9a",
   "metadata": {},
   "outputs": [],
   "source": [
    "deck = [(1, \"hearts\"), (2, \"hearts\"),(3, \"hearts\"), (4, \"hearts\"), (5, \"hearts\")]"
   ]
  },
  {
   "cell_type": "code",
   "execution_count": 2,
   "id": "b2a0b0b5",
   "metadata": {},
   "outputs": [
    {
     "data": {
      "text/plain": [
       "(1, 'hearts')"
      ]
     },
     "execution_count": 2,
     "metadata": {},
     "output_type": "execute_result"
    }
   ],
   "source": [
    "deck[0]"
   ]
  },
  {
   "cell_type": "code",
   "execution_count": 5,
   "id": "0b4dbf9c",
   "metadata": {},
   "outputs": [],
   "source": [
    "deck = list(range(1,11))*4"
   ]
  },
  {
   "cell_type": "code",
   "execution_count": 6,
   "id": "8d530bba",
   "metadata": {},
   "outputs": [
    {
     "data": {
      "text/plain": [
       "[1,\n",
       " 2,\n",
       " 3,\n",
       " 4,\n",
       " 5,\n",
       " 6,\n",
       " 7,\n",
       " 8,\n",
       " 9,\n",
       " 10,\n",
       " 1,\n",
       " 2,\n",
       " 3,\n",
       " 4,\n",
       " 5,\n",
       " 6,\n",
       " 7,\n",
       " 8,\n",
       " 9,\n",
       " 10,\n",
       " 1,\n",
       " 2,\n",
       " 3,\n",
       " 4,\n",
       " 5,\n",
       " 6,\n",
       " 7,\n",
       " 8,\n",
       " 9,\n",
       " 10,\n",
       " 1,\n",
       " 2,\n",
       " 3,\n",
       " 4,\n",
       " 5,\n",
       " 6,\n",
       " 7,\n",
       " 8,\n",
       " 9,\n",
       " 10]"
      ]
     },
     "execution_count": 6,
     "metadata": {},
     "output_type": "execute_result"
    }
   ],
   "source": [
    "deck"
   ]
  },
  {
   "cell_type": "code",
   "execution_count": 7,
   "id": "12260265",
   "metadata": {},
   "outputs": [
    {
     "data": {
      "text/plain": [
       "True"
      ]
     },
     "execution_count": 7,
     "metadata": {},
     "output_type": "execute_result"
    }
   ],
   "source": [
    "deck[0] == 1"
   ]
  },
  {
   "cell_type": "code",
   "execution_count": 8,
   "id": "bbce94af",
   "metadata": {},
   "outputs": [
    {
     "ename": "NameError",
     "evalue": "name 'random' is not defined",
     "output_type": "error",
     "traceback": [
      "\u001b[0;31m---------------------------------------------------------------------------\u001b[0m",
      "\u001b[0;31mNameError\u001b[0m                                 Traceback (most recent call last)",
      "\u001b[0;32m/var/folders/0f/qs3zv29x1wl9clhnr9xb_tm40000gn/T/ipykernel_24144/2992212378.py\u001b[0m in \u001b[0;36m<cell line: 1>\u001b[0;34m()\u001b[0m\n\u001b[0;32m----> 1\u001b[0;31m \u001b[0mrandom\u001b[0m\u001b[0;34m\u001b[0m\u001b[0;34m\u001b[0m\u001b[0m\n\u001b[0m",
      "\u001b[0;31mNameError\u001b[0m: name 'random' is not defined"
     ]
    }
   ],
   "source": [
    "random"
   ]
  },
  {
   "cell_type": "code",
   "execution_count": 9,
   "id": "1f11b18c",
   "metadata": {},
   "outputs": [],
   "source": [
    "import random"
   ]
  },
  {
   "cell_type": "code",
   "execution_count": 11,
   "id": "0fe418e1",
   "metadata": {},
   "outputs": [],
   "source": [
    "from random import random, randint"
   ]
  },
  {
   "cell_type": "code",
   "execution_count": 13,
   "id": "5c2b81e2",
   "metadata": {},
   "outputs": [],
   "source": [
    "# pick a random card and \n",
    "random_number = randint(0,39)"
   ]
  },
  {
   "cell_type": "code",
   "execution_count": 14,
   "id": "5dca3aad",
   "metadata": {},
   "outputs": [
    {
     "data": {
      "text/plain": [
       "15"
      ]
     },
     "execution_count": 14,
     "metadata": {},
     "output_type": "execute_result"
    }
   ],
   "source": [
    "random_number"
   ]
  },
  {
   "cell_type": "code",
   "execution_count": 16,
   "id": "57fc7361",
   "metadata": {},
   "outputs": [
    {
     "data": {
      "text/plain": [
       "6"
      ]
     },
     "execution_count": 16,
     "metadata": {},
     "output_type": "execute_result"
    }
   ],
   "source": [
    "deck[random_number]"
   ]
  },
  {
   "cell_type": "code",
   "execution_count": 17,
   "id": "9fbd854d",
   "metadata": {},
   "outputs": [],
   "source": [
    "random_n1 = randint(0,39)\n",
    "random_n2 = randint(0,39)"
   ]
  },
  {
   "cell_type": "code",
   "execution_count": 18,
   "id": "1ea22208",
   "metadata": {},
   "outputs": [
    {
     "data": {
      "text/plain": [
       "4"
      ]
     },
     "execution_count": 18,
     "metadata": {},
     "output_type": "execute_result"
    }
   ],
   "source": [
    "deck[random_n1]"
   ]
  },
  {
   "cell_type": "code",
   "execution_count": 19,
   "id": "9929c038",
   "metadata": {},
   "outputs": [
    {
     "data": {
      "text/plain": [
       "2"
      ]
     },
     "execution_count": 19,
     "metadata": {},
     "output_type": "execute_result"
    }
   ],
   "source": [
    "deck[random_n2]"
   ]
  },
  {
   "cell_type": "code",
   "execution_count": 20,
   "id": "055a9ada",
   "metadata": {},
   "outputs": [],
   "source": [
    "deck[random_n1] = deck[random_n2]\n",
    "deck[random_n2] = deck[random_n1]"
   ]
  },
  {
   "cell_type": "code",
   "execution_count": 21,
   "id": "9767526d",
   "metadata": {},
   "outputs": [
    {
     "data": {
      "text/plain": [
       "2"
      ]
     },
     "execution_count": 21,
     "metadata": {},
     "output_type": "execute_result"
    }
   ],
   "source": [
    "deck[random_n1]"
   ]
  },
  {
   "cell_type": "code",
   "execution_count": 23,
   "id": "2e0c5793",
   "metadata": {},
   "outputs": [
    {
     "data": {
      "text/plain": [
       "2"
      ]
     },
     "execution_count": 23,
     "metadata": {},
     "output_type": "execute_result"
    }
   ],
   "source": [
    "deck[random_n2]"
   ]
  },
  {
   "cell_type": "code",
   "execution_count": 24,
   "id": "9c73ad07",
   "metadata": {},
   "outputs": [],
   "source": [
    "deck[random_n1] = 4"
   ]
  },
  {
   "cell_type": "code",
   "execution_count": 26,
   "id": "d5330f2c",
   "metadata": {},
   "outputs": [],
   "source": [
    "tmp = deck[random_n1]\n",
    "deck[random_n1] = deck[random_n2]\n",
    "deck[random_n2] = tmp"
   ]
  },
  {
   "cell_type": "code",
   "execution_count": 27,
   "id": "eb349afb",
   "metadata": {},
   "outputs": [
    {
     "data": {
      "text/plain": [
       "2"
      ]
     },
     "execution_count": 27,
     "metadata": {},
     "output_type": "execute_result"
    }
   ],
   "source": [
    "deck[random_n1]"
   ]
  },
  {
   "cell_type": "code",
   "execution_count": 28,
   "id": "eb5e94a8",
   "metadata": {},
   "outputs": [
    {
     "data": {
      "text/plain": [
       "4"
      ]
     },
     "execution_count": 28,
     "metadata": {},
     "output_type": "execute_result"
    }
   ],
   "source": [
    "deck[random_n2]"
   ]
  },
  {
   "cell_type": "code",
   "execution_count": 29,
   "id": "67b4da2c",
   "metadata": {},
   "outputs": [
    {
     "data": {
      "text/plain": [
       "[1,\n",
       " 4,\n",
       " 3,\n",
       " 2,\n",
       " 5,\n",
       " 6,\n",
       " 7,\n",
       " 8,\n",
       " 9,\n",
       " 10,\n",
       " 1,\n",
       " 2,\n",
       " 3,\n",
       " 4,\n",
       " 5,\n",
       " 6,\n",
       " 7,\n",
       " 8,\n",
       " 9,\n",
       " 10,\n",
       " 1,\n",
       " 2,\n",
       " 3,\n",
       " 4,\n",
       " 5,\n",
       " 6,\n",
       " 7,\n",
       " 8,\n",
       " 9,\n",
       " 10,\n",
       " 1,\n",
       " 2,\n",
       " 3,\n",
       " 4,\n",
       " 5,\n",
       " 6,\n",
       " 7,\n",
       " 8,\n",
       " 9,\n",
       " 10]"
      ]
     },
     "execution_count": 29,
     "metadata": {},
     "output_type": "execute_result"
    }
   ],
   "source": [
    "deck"
   ]
  },
  {
   "cell_type": "code",
   "execution_count": 35,
   "id": "c6deceda",
   "metadata": {},
   "outputs": [],
   "source": [
    "def swap_random_cards():\n",
    "    random_n1 = randint(0,39)\n",
    "    random_n2 = randint(0,39)\n",
    "    tmp = deck[random_n1]\n",
    "    deck[random_n1] = deck[random_n2]\n",
    "    deck[random_n2] = tmp"
   ]
  },
  {
   "cell_type": "code",
   "execution_count": 57,
   "id": "5663e669",
   "metadata": {},
   "outputs": [],
   "source": [
    "for _ in range(100):\n",
    "    swap_random_cards()"
   ]
  },
  {
   "cell_type": "code",
   "execution_count": 37,
   "id": "2de13a34",
   "metadata": {},
   "outputs": [
    {
     "data": {
      "text/plain": [
       "[5,\n",
       " 8,\n",
       " 3,\n",
       " 8,\n",
       " 10,\n",
       " 6,\n",
       " 2,\n",
       " 5,\n",
       " 3,\n",
       " 9,\n",
       " 6,\n",
       " 10,\n",
       " 10,\n",
       " 4,\n",
       " 1,\n",
       " 4,\n",
       " 8,\n",
       " 1,\n",
       " 2,\n",
       " 6,\n",
       " 4,\n",
       " 6,\n",
       " 7,\n",
       " 3,\n",
       " 9,\n",
       " 7,\n",
       " 5,\n",
       " 2,\n",
       " 9,\n",
       " 2,\n",
       " 4,\n",
       " 3,\n",
       " 10,\n",
       " 8,\n",
       " 7,\n",
       " 1,\n",
       " 7,\n",
       " 5,\n",
       " 9,\n",
       " 1]"
      ]
     },
     "execution_count": 37,
     "metadata": {},
     "output_type": "execute_result"
    }
   ],
   "source": [
    "deck"
   ]
  },
  {
   "cell_type": "code",
   "execution_count": 38,
   "id": "7d8f7b76",
   "metadata": {},
   "outputs": [
    {
     "name": "stdout",
     "output_type": "stream",
     "text": [
      "1\n",
      "2\n",
      "3\n"
     ]
    }
   ],
   "source": [
    "for i in [1,2,3]:\n",
    "    print(i)"
   ]
  },
  {
   "cell_type": "code",
   "execution_count": 67,
   "id": "7fc1b8f4",
   "metadata": {},
   "outputs": [
    {
     "name": "stdout",
     "output_type": "stream",
     "text": [
      "6\n"
     ]
    }
   ],
   "source": [
    "a = 0\n",
    "for i in [1,2,3]:\n",
    "    a = a + i\n",
    "    \n",
    "print(a)\n"
   ]
  },
  {
   "cell_type": "code",
   "execution_count": 56,
   "id": "817c4050",
   "metadata": {},
   "outputs": [],
   "source": [
    "deck = list(range(1,11))*4"
   ]
  },
  {
   "cell_type": "code",
   "execution_count": 59,
   "id": "d083de92",
   "metadata": {},
   "outputs": [
    {
     "name": "stdout",
     "output_type": "stream",
     "text": [
      "[2, 3, 4, 4, 10, 1, 1, 7, 3, 6, 2, 9, 8, 4, 7, 1, 9, 9, 2, 10, 7, 1, 7, 8, 8, 5, 5, 6, 6, 3, 9, 4, 5, 2, 3, 6, 8, 10, 5, 10]\n"
     ]
    }
   ],
   "source": [
    "print(deck)"
   ]
  },
  {
   "cell_type": "code",
   "execution_count": 60,
   "id": "e8cd2682",
   "metadata": {},
   "outputs": [],
   "source": [
    "counting = [1,2,3]*30"
   ]
  },
  {
   "cell_type": "code",
   "execution_count": 62,
   "id": "332bbc5b",
   "metadata": {},
   "outputs": [
    {
     "name": "stdout",
     "output_type": "stream",
     "text": [
      "[1, 2, 3, 1, 2, 3, 1, 2, 3, 1, 2, 3, 1, 2, 3, 1, 2, 3, 1, 2, 3, 1, 2, 3, 1, 2, 3, 1, 2, 3, 1, 2, 3, 1, 2, 3, 1, 2, 3, 1, 2, 3, 1, 2, 3, 1, 2, 3, 1, 2, 3, 1, 2, 3, 1, 2, 3, 1, 2, 3, 1, 2, 3, 1, 2, 3, 1, 2, 3, 1, 2, 3, 1, 2, 3, 1, 2, 3, 1, 2, 3, 1, 2, 3, 1, 2, 3, 1, 2, 3]\n"
     ]
    }
   ],
   "source": [
    "print(counting)"
   ]
  },
  {
   "cell_type": "code",
   "execution_count": 63,
   "id": "154b7dd3",
   "metadata": {},
   "outputs": [
    {
     "data": {
      "text/plain": [
       "[True,\n",
       " True,\n",
       " True,\n",
       " True,\n",
       " True,\n",
       " True,\n",
       " False,\n",
       " True,\n",
       " False,\n",
       " True,\n",
       " False,\n",
       " True,\n",
       " True,\n",
       " True,\n",
       " True,\n",
       " False,\n",
       " True,\n",
       " True,\n",
       " True,\n",
       " True,\n",
       " True,\n",
       " False,\n",
       " True,\n",
       " True,\n",
       " True,\n",
       " True,\n",
       " True,\n",
       " True,\n",
       " True,\n",
       " False,\n",
       " True,\n",
       " True,\n",
       " True,\n",
       " True,\n",
       " True,\n",
       " True,\n",
       " True,\n",
       " True,\n",
       " True,\n",
       " True]"
      ]
     },
     "execution_count": 63,
     "metadata": {},
     "output_type": "execute_result"
    }
   ],
   "source": [
    "[deck[i] != counting[i] for i in range(40)]"
   ]
  },
  {
   "cell_type": "code",
   "execution_count": 70,
   "id": "885d54f5",
   "metadata": {},
   "outputs": [
    {
     "data": {
      "text/plain": [
       "34"
      ]
     },
     "execution_count": 70,
     "metadata": {},
     "output_type": "execute_result"
    }
   ],
   "source": [
    "sum([deck[i] != counting[i] for i in range(40)])"
   ]
  },
  {
   "cell_type": "code",
   "execution_count": 120,
   "id": "01c5ef3c",
   "metadata": {},
   "outputs": [
    {
     "data": {
      "text/plain": [
       "False"
      ]
     },
     "execution_count": 120,
     "metadata": {},
     "output_type": "execute_result"
    }
   ],
   "source": [
    "sum([deck[i] != counting[i] for i in range(40)]) == 40"
   ]
  },
  {
   "cell_type": "code",
   "execution_count": 121,
   "id": "33646b22",
   "metadata": {},
   "outputs": [],
   "source": [
    "def shuffle_deck():\n",
    "    for _ in range(100):\n",
    "        swap_random_cards()"
   ]
  },
  {
   "cell_type": "code",
   "execution_count": 122,
   "id": "802481a5",
   "metadata": {},
   "outputs": [],
   "source": [
    "def play_game():\n",
    "    shuffle_deck()\n",
    "    return sum([deck[i] != counting[i] for i in range(40)]) == 40"
   ]
  },
  {
   "cell_type": "code",
   "execution_count": 132,
   "id": "608020e1",
   "metadata": {},
   "outputs": [
    {
     "data": {
      "text/plain": [
       "76"
      ]
     },
     "execution_count": 132,
     "metadata": {},
     "output_type": "execute_result"
    }
   ],
   "source": [
    "sum([play_game() for _ in range(10000)])"
   ]
  },
  {
   "cell_type": "code",
   "execution_count": null,
   "id": "9941e192",
   "metadata": {},
   "outputs": [],
   "source": []
  }
 ],
 "metadata": {
  "kernelspec": {
   "display_name": "Python 3 (ipykernel)",
   "language": "python",
   "name": "python3"
  },
  "language_info": {
   "codemirror_mode": {
    "name": "ipython",
    "version": 3
   },
   "file_extension": ".py",
   "mimetype": "text/x-python",
   "name": "python",
   "nbconvert_exporter": "python",
   "pygments_lexer": "ipython3",
   "version": "3.9.6"
  }
 },
 "nbformat": 4,
 "nbformat_minor": 5
}
