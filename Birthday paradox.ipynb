{
 "cells": [
  {
   "cell_type": "code",
   "execution_count": 1,
   "id": "e5c1fc00",
   "metadata": {},
   "outputs": [
    {
     "data": {
      "text/plain": [
       "1"
      ]
     },
     "execution_count": 1,
     "metadata": {},
     "output_type": "execute_result"
    }
   ],
   "source": [
    "1"
   ]
  },
  {
   "cell_type": "code",
   "execution_count": 2,
   "id": "ccf6bae6",
   "metadata": {},
   "outputs": [
    {
     "data": {
      "text/plain": [
       "2"
      ]
     },
     "execution_count": 2,
     "metadata": {},
     "output_type": "execute_result"
    }
   ],
   "source": [
    "1+1"
   ]
  },
  {
   "cell_type": "code",
   "execution_count": 3,
   "id": "751429e8",
   "metadata": {},
   "outputs": [
    {
     "data": {
      "text/plain": [
       "19"
      ]
     },
     "execution_count": 3,
     "metadata": {},
     "output_type": "execute_result"
    }
   ],
   "source": [
    "(3*6)+1"
   ]
  },
  {
   "cell_type": "code",
   "execution_count": 4,
   "id": "125e3111",
   "metadata": {},
   "outputs": [
    {
     "data": {
      "text/plain": [
       "0.2727272727272727"
      ]
     },
     "execution_count": 4,
     "metadata": {},
     "output_type": "execute_result"
    }
   ],
   "source": [
    "3/11"
   ]
  },
  {
   "cell_type": "code",
   "execution_count": 5,
   "id": "018a14de",
   "metadata": {},
   "outputs": [
    {
     "data": {
      "text/plain": [
       "0.0"
      ]
     },
     "execution_count": 5,
     "metadata": {},
     "output_type": "execute_result"
    }
   ],
   "source": [
    "0/1"
   ]
  },
  {
   "cell_type": "code",
   "execution_count": 6,
   "id": "8410404f",
   "metadata": {},
   "outputs": [
    {
     "ename": "ZeroDivisionError",
     "evalue": "division by zero",
     "output_type": "error",
     "traceback": [
      "\u001b[0;31m---------------------------------------------------------------------------\u001b[0m",
      "\u001b[0;31mZeroDivisionError\u001b[0m                         Traceback (most recent call last)",
      "\u001b[0;32m/var/folders/0f/qs3zv29x1wl9clhnr9xb_tm40000gn/T/ipykernel_24548/2354412189.py\u001b[0m in \u001b[0;36m<cell line: 1>\u001b[0;34m()\u001b[0m\n\u001b[0;32m----> 1\u001b[0;31m \u001b[0;36m1\u001b[0m\u001b[0;34m/\u001b[0m\u001b[0;36m0\u001b[0m\u001b[0;34m\u001b[0m\u001b[0;34m\u001b[0m\u001b[0m\n\u001b[0m",
      "\u001b[0;31mZeroDivisionError\u001b[0m: division by zero"
     ]
    }
   ],
   "source": [
    "1/0"
   ]
  },
  {
   "cell_type": "code",
   "execution_count": 7,
   "id": "87b25c79",
   "metadata": {},
   "outputs": [
    {
     "data": {
      "text/plain": [
       "369729637649726772657187905628805440595668764281741102430259972423552570455277523421410650010128232727940978889548326540119429996769494359451621570193644014418071060667659301384999779999159200499899"
      ]
     },
     "execution_count": 7,
     "metadata": {},
     "output_type": "execute_result"
    }
   ],
   "source": [
    "99**99"
   ]
  },
  {
   "cell_type": "code",
   "execution_count": 9,
   "id": "c73cf4dd",
   "metadata": {},
   "outputs": [
    {
     "ename": "KeyboardInterrupt",
     "evalue": "",
     "output_type": "error",
     "traceback": [
      "\u001b[0;31m---------------------------------------------------------------------------\u001b[0m",
      "\u001b[0;31mKeyboardInterrupt\u001b[0m                         Traceback (most recent call last)",
      "\u001b[0;32m/var/folders/0f/qs3zv29x1wl9clhnr9xb_tm40000gn/T/ipykernel_24548/410298991.py\u001b[0m in \u001b[0;36m<cell line: 1>\u001b[0;34m()\u001b[0m\n\u001b[0;32m----> 1\u001b[0;31m \u001b[0;36m9\u001b[0m\u001b[0;34m**\u001b[0m\u001b[0;36m999\u001b[0m\u001b[0;34m**\u001b[0m\u001b[0;36m4\u001b[0m\u001b[0;34m\u001b[0m\u001b[0;34m\u001b[0m\u001b[0m\n\u001b[0m",
      "\u001b[0;31mKeyboardInterrupt\u001b[0m: "
     ]
    }
   ],
   "source": [
    "9**999**4"
   ]
  },
  {
   "cell_type": "code",
   "execution_count": 11,
   "id": "1ce48ca7",
   "metadata": {},
   "outputs": [
    {
     "data": {
      "text/plain": [
       "2"
      ]
     },
     "execution_count": 11,
     "metadata": {},
     "output_type": "execute_result"
    }
   ],
   "source": [
    "round(7/3)"
   ]
  },
  {
   "cell_type": "code",
   "execution_count": 12,
   "id": "ce864ef5",
   "metadata": {},
   "outputs": [
    {
     "data": {
      "text/plain": [
       "1"
      ]
     },
     "execution_count": 12,
     "metadata": {},
     "output_type": "execute_result"
    }
   ],
   "source": [
    "abs(-1)"
   ]
  },
  {
   "cell_type": "code",
   "execution_count": 13,
   "id": "2b841d05",
   "metadata": {},
   "outputs": [],
   "source": [
    "from random import random"
   ]
  },
  {
   "cell_type": "code",
   "execution_count": 14,
   "id": "5747d9d0",
   "metadata": {},
   "outputs": [
    {
     "data": {
      "text/plain": [
       "0.04325718874950235"
      ]
     },
     "execution_count": 14,
     "metadata": {},
     "output_type": "execute_result"
    }
   ],
   "source": [
    "random()"
   ]
  },
  {
   "cell_type": "code",
   "execution_count": 15,
   "id": "82210c40",
   "metadata": {},
   "outputs": [
    {
     "data": {
      "text/plain": [
       "5.467202085164567"
      ]
     },
     "execution_count": 15,
     "metadata": {},
     "output_type": "execute_result"
    }
   ],
   "source": [
    "random() + 5"
   ]
  },
  {
   "cell_type": "code",
   "execution_count": 17,
   "id": "d3801404",
   "metadata": {},
   "outputs": [
    {
     "data": {
      "text/plain": [
       "1.1500941719793962"
      ]
     },
     "execution_count": 17,
     "metadata": {},
     "output_type": "execute_result"
    }
   ],
   "source": [
    "random() * 5"
   ]
  },
  {
   "cell_type": "code",
   "execution_count": 54,
   "id": "8bd08210",
   "metadata": {},
   "outputs": [
    {
     "data": {
      "text/plain": [
       "239"
      ]
     },
     "execution_count": 54,
     "metadata": {},
     "output_type": "execute_result"
    }
   ],
   "source": [
    "round(random() * 365) + 1"
   ]
  },
  {
   "cell_type": "code",
   "execution_count": 55,
   "id": "664be797",
   "metadata": {},
   "outputs": [],
   "source": [
    "a = 10"
   ]
  },
  {
   "cell_type": "code",
   "execution_count": 56,
   "id": "1196ca8b",
   "metadata": {},
   "outputs": [
    {
     "data": {
      "text/plain": [
       "11"
      ]
     },
     "execution_count": 56,
     "metadata": {},
     "output_type": "execute_result"
    }
   ],
   "source": [
    "a+1"
   ]
  },
  {
   "cell_type": "code",
   "execution_count": 57,
   "id": "cbaa9115",
   "metadata": {},
   "outputs": [
    {
     "data": {
      "text/plain": [
       "100"
      ]
     },
     "execution_count": 57,
     "metadata": {},
     "output_type": "execute_result"
    }
   ],
   "source": [
    "a*a"
   ]
  },
  {
   "cell_type": "code",
   "execution_count": 58,
   "id": "6daf1f0e",
   "metadata": {},
   "outputs": [],
   "source": [
    "a = a + 1"
   ]
  },
  {
   "cell_type": "code",
   "execution_count": 59,
   "id": "e0a2d80f",
   "metadata": {},
   "outputs": [],
   "source": [
    "person1_birthday = round(random() * 5) + 1"
   ]
  },
  {
   "cell_type": "code",
   "execution_count": 60,
   "id": "9c477a19",
   "metadata": {},
   "outputs": [],
   "source": [
    "person2_birthday = round(random() * 5) + 1\n"
   ]
  },
  {
   "cell_type": "markdown",
   "id": "f9309599",
   "metadata": {},
   "source": [
    "## Lists"
   ]
  },
  {
   "cell_type": "code",
   "execution_count": 61,
   "id": "733bb30c",
   "metadata": {},
   "outputs": [
    {
     "data": {
      "text/plain": [
       "[10, 12, 14, 15]"
      ]
     },
     "execution_count": 61,
     "metadata": {},
     "output_type": "execute_result"
    }
   ],
   "source": [
    "[10, 12, 14, 15]"
   ]
  },
  {
   "cell_type": "code",
   "execution_count": 62,
   "id": "83b70430",
   "metadata": {},
   "outputs": [],
   "source": [
    "l = [1,2,3,10,12]"
   ]
  },
  {
   "cell_type": "code",
   "execution_count": 63,
   "id": "59995be5",
   "metadata": {},
   "outputs": [
    {
     "data": {
      "text/plain": [
       "1"
      ]
     },
     "execution_count": 63,
     "metadata": {},
     "output_type": "execute_result"
    }
   ],
   "source": [
    "l[0] "
   ]
  },
  {
   "cell_type": "code",
   "execution_count": 64,
   "id": "f85f5e42",
   "metadata": {},
   "outputs": [
    {
     "data": {
      "text/plain": [
       "2"
      ]
     },
     "execution_count": 64,
     "metadata": {},
     "output_type": "execute_result"
    }
   ],
   "source": [
    "l[1]"
   ]
  },
  {
   "cell_type": "code",
   "execution_count": 65,
   "id": "c9fd9c5d",
   "metadata": {},
   "outputs": [
    {
     "data": {
      "text/plain": [
       "12"
      ]
     },
     "execution_count": 65,
     "metadata": {},
     "output_type": "execute_result"
    }
   ],
   "source": [
    "l[4]"
   ]
  },
  {
   "cell_type": "code",
   "execution_count": 67,
   "id": "428889eb",
   "metadata": {},
   "outputs": [
    {
     "data": {
      "text/plain": [
       "10"
      ]
     },
     "execution_count": 67,
     "metadata": {},
     "output_type": "execute_result"
    }
   ],
   "source": [
    "l[-2]"
   ]
  },
  {
   "cell_type": "code",
   "execution_count": 68,
   "id": "ef554b74",
   "metadata": {},
   "outputs": [
    {
     "data": {
      "text/plain": [
       "28"
      ]
     },
     "execution_count": 68,
     "metadata": {},
     "output_type": "execute_result"
    }
   ],
   "source": [
    "sum(l)"
   ]
  },
  {
   "cell_type": "code",
   "execution_count": 69,
   "id": "c3f6bd32",
   "metadata": {},
   "outputs": [
    {
     "data": {
      "text/plain": [
       "[1, 2]"
      ]
     },
     "execution_count": 69,
     "metadata": {},
     "output_type": "execute_result"
    }
   ],
   "source": [
    "l[0:2]"
   ]
  },
  {
   "cell_type": "code",
   "execution_count": 70,
   "id": "6ada8e03",
   "metadata": {},
   "outputs": [
    {
     "data": {
      "text/plain": [
       "[0, 1, 2, 3, 4, 5, 6, 7, 8, 9]"
      ]
     },
     "execution_count": 70,
     "metadata": {},
     "output_type": "execute_result"
    }
   ],
   "source": [
    "list(range(10))"
   ]
  },
  {
   "cell_type": "markdown",
   "id": "65d8e252",
   "metadata": {},
   "source": [
    "\n",
    "What is the value of $$\\sum_{i=1}^{100}i$$"
   ]
  },
  {
   "cell_type": "code",
   "execution_count": 72,
   "id": "02c0722e",
   "metadata": {},
   "outputs": [
    {
     "data": {
      "text/plain": [
       "5050"
      ]
     },
     "execution_count": 72,
     "metadata": {},
     "output_type": "execute_result"
    }
   ],
   "source": [
    "sum(list(range(101)))"
   ]
  },
  {
   "cell_type": "code",
   "execution_count": 73,
   "id": "ac7dc12d",
   "metadata": {},
   "outputs": [],
   "source": [
    "x = 100"
   ]
  },
  {
   "cell_type": "code",
   "execution_count": 74,
   "id": "5d47acc9",
   "metadata": {},
   "outputs": [
    {
     "data": {
      "text/plain": [
       "5050.0"
      ]
     },
     "execution_count": 74,
     "metadata": {},
     "output_type": "execute_result"
    }
   ],
   "source": [
    "# with a closed formula\n",
    "\n",
    "((x**2)+x)/2"
   ]
  },
  {
   "cell_type": "markdown",
   "id": "12b49761",
   "metadata": {},
   "source": [
    "And if we want to compute $\\sum_{i=1}^{100}i^2$?"
   ]
  },
  {
   "cell_type": "markdown",
   "id": "80ba3cd0",
   "metadata": {},
   "source": [
    "## List comprehensions"
   ]
  },
  {
   "cell_type": "code",
   "execution_count": 76,
   "id": "189c2414",
   "metadata": {},
   "outputs": [
    {
     "data": {
      "text/plain": [
       "338350"
      ]
     },
     "execution_count": 76,
     "metadata": {},
     "output_type": "execute_result"
    }
   ],
   "source": [
    "sum([x**2 for x in range(101)])"
   ]
  },
  {
   "cell_type": "code",
   "execution_count": 160,
   "id": "219661fa",
   "metadata": {},
   "outputs": [
    {
     "data": {
      "text/plain": [
       "[362,\n",
       " 330,\n",
       " 6,\n",
       " 320,\n",
       " 64,\n",
       " 30,\n",
       " 265,\n",
       " 93,\n",
       " 245,\n",
       " 185,\n",
       " 297,\n",
       " 184,\n",
       " 245,\n",
       " 95,\n",
       " 191,\n",
       " 45,\n",
       " 60,\n",
       " 34,\n",
       " 340,\n",
       " 184,\n",
       " 229,\n",
       " 72,\n",
       " 351,\n",
       " 3,\n",
       " 318,\n",
       " 297,\n",
       " 103,\n",
       " 298,\n",
       " 180,\n",
       " 136]"
      ]
     },
     "execution_count": 160,
     "metadata": {},
     "output_type": "execute_result"
    }
   ],
   "source": [
    "# we can use comprehensions to obtain a list of 30 random numbers in [1...365]\n",
    "\n",
    "[round(random()*365)+1 for _ in range(30)]"
   ]
  },
  {
   "cell_type": "markdown",
   "id": "9d17e1a5",
   "metadata": {},
   "source": [
    "How do we check if there are two same numbers in the list?"
   ]
  },
  {
   "cell_type": "code",
   "execution_count": 87,
   "id": "4a932ecd",
   "metadata": {},
   "outputs": [],
   "source": [
    "people = [round(random()*365)+1 for _ in range(30)]"
   ]
  },
  {
   "cell_type": "code",
   "execution_count": 89,
   "id": "24e9f244",
   "metadata": {},
   "outputs": [
    {
     "data": {
      "text/plain": [
       "[4,\n",
       " 12,\n",
       " 18,\n",
       " 20,\n",
       " 27,\n",
       " 35,\n",
       " 40,\n",
       " 50,\n",
       " 64,\n",
       " 67,\n",
       " 67,\n",
       " 83,\n",
       " 110,\n",
       " 152,\n",
       " 188,\n",
       " 219,\n",
       " 239,\n",
       " 246,\n",
       " 275,\n",
       " 277,\n",
       " 299,\n",
       " 306,\n",
       " 306,\n",
       " 312,\n",
       " 316,\n",
       " 329,\n",
       " 337,\n",
       " 350,\n",
       " 361,\n",
       " 366]"
      ]
     },
     "execution_count": 89,
     "metadata": {},
     "output_type": "execute_result"
    }
   ],
   "source": [
    "sorted(people)"
   ]
  },
  {
   "cell_type": "markdown",
   "id": "07cbe9bc",
   "metadata": {},
   "source": [
    "## Sets"
   ]
  },
  {
   "cell_type": "code",
   "execution_count": 90,
   "id": "9ffde04f",
   "metadata": {},
   "outputs": [],
   "source": [
    "s = {1,2,3,4,5}"
   ]
  },
  {
   "cell_type": "code",
   "execution_count": 91,
   "id": "9dce24ea",
   "metadata": {},
   "outputs": [
    {
     "data": {
      "text/plain": [
       "{1, 2, 3, 4, 5}"
      ]
     },
     "execution_count": 91,
     "metadata": {},
     "output_type": "execute_result"
    }
   ],
   "source": [
    "s"
   ]
  },
  {
   "cell_type": "code",
   "execution_count": 92,
   "id": "235aade1",
   "metadata": {},
   "outputs": [],
   "source": [
    "s = {1,2,3,4,5,5,5,5,5}"
   ]
  },
  {
   "cell_type": "code",
   "execution_count": 93,
   "id": "bc546681",
   "metadata": {},
   "outputs": [
    {
     "data": {
      "text/plain": [
       "{1, 2, 3, 4, 5}"
      ]
     },
     "execution_count": 93,
     "metadata": {},
     "output_type": "execute_result"
    }
   ],
   "source": [
    "s"
   ]
  },
  {
   "cell_type": "code",
   "execution_count": 94,
   "id": "ee17de0e",
   "metadata": {},
   "outputs": [
    {
     "data": {
      "text/plain": [
       "5"
      ]
     },
     "execution_count": 94,
     "metadata": {},
     "output_type": "execute_result"
    }
   ],
   "source": [
    "len(s)"
   ]
  },
  {
   "cell_type": "code",
   "execution_count": 95,
   "id": "57fbd291",
   "metadata": {},
   "outputs": [
    {
     "data": {
      "text/plain": [
       "30"
      ]
     },
     "execution_count": 95,
     "metadata": {},
     "output_type": "execute_result"
    }
   ],
   "source": [
    "len(people)"
   ]
  },
  {
   "cell_type": "code",
   "execution_count": 96,
   "id": "b73b0d94",
   "metadata": {},
   "outputs": [],
   "source": [
    "l = [1,2,3,4,5,5,5]"
   ]
  },
  {
   "cell_type": "code",
   "execution_count": 97,
   "id": "dd43a702",
   "metadata": {},
   "outputs": [
    {
     "data": {
      "text/plain": [
       "[1, 2, 3, 4, 5, 5, 5]"
      ]
     },
     "execution_count": 97,
     "metadata": {},
     "output_type": "execute_result"
    }
   ],
   "source": [
    "l"
   ]
  },
  {
   "cell_type": "code",
   "execution_count": 98,
   "id": "ef30a467",
   "metadata": {},
   "outputs": [
    {
     "data": {
      "text/plain": [
       "{1, 2, 3, 4, 5}"
      ]
     },
     "execution_count": 98,
     "metadata": {},
     "output_type": "execute_result"
    }
   ],
   "source": [
    "set(l)"
   ]
  },
  {
   "cell_type": "markdown",
   "id": "900f5df2",
   "metadata": {},
   "source": [
    "## Boolean expressions"
   ]
  },
  {
   "cell_type": "code",
   "execution_count": 99,
   "id": "a38bb0b9",
   "metadata": {},
   "outputs": [
    {
     "data": {
      "text/plain": [
       "False"
      ]
     },
     "execution_count": 99,
     "metadata": {},
     "output_type": "execute_result"
    }
   ],
   "source": [
    "10 < 2"
   ]
  },
  {
   "cell_type": "code",
   "execution_count": 100,
   "id": "80087360",
   "metadata": {},
   "outputs": [
    {
     "data": {
      "text/plain": [
       "True"
      ]
     },
     "execution_count": 100,
     "metadata": {},
     "output_type": "execute_result"
    }
   ],
   "source": [
    "10 == 5+5"
   ]
  },
  {
   "cell_type": "code",
   "execution_count": 101,
   "id": "c2e280f7",
   "metadata": {},
   "outputs": [
    {
     "data": {
      "text/plain": [
       "False"
      ]
     },
     "execution_count": 101,
     "metadata": {},
     "output_type": "execute_result"
    }
   ],
   "source": [
    "len(people) == len(set(people))"
   ]
  },
  {
   "cell_type": "code",
   "execution_count": 102,
   "id": "1479c6c1",
   "metadata": {},
   "outputs": [
    {
     "data": {
      "text/plain": [
       "28"
      ]
     },
     "execution_count": 102,
     "metadata": {},
     "output_type": "execute_result"
    }
   ],
   "source": [
    "len(set(people))"
   ]
  },
  {
   "cell_type": "code",
   "execution_count": 107,
   "id": "330bca96",
   "metadata": {},
   "outputs": [
    {
     "data": {
      "text/plain": [
       "True"
      ]
     },
     "execution_count": 107,
     "metadata": {},
     "output_type": "execute_result"
    }
   ],
   "source": [
    "people = [round(random()*365)+1 for _ in range(30)]\n",
    "len(people) == len(set(people))"
   ]
  },
  {
   "cell_type": "code",
   "execution_count": 108,
   "id": "dfebfc28",
   "metadata": {},
   "outputs": [],
   "source": [
    "def sum_two_numbers(a, b):\n",
    "    return a + b"
   ]
  },
  {
   "cell_type": "code",
   "execution_count": 109,
   "id": "70a9e649",
   "metadata": {},
   "outputs": [
    {
     "data": {
      "text/plain": [
       "3"
      ]
     },
     "execution_count": 109,
     "metadata": {},
     "output_type": "execute_result"
    }
   ],
   "source": [
    "sum_two_numbers(1,2)"
   ]
  },
  {
   "cell_type": "code",
   "execution_count": 110,
   "id": "7477a492",
   "metadata": {},
   "outputs": [],
   "source": [
    "def create_class_and_check_if_there_are_collisions():\n",
    "    people = [round(random()*365)+1 for _ in range(30)]\n",
    "    return len(people) == len(set(people))\n",
    "\n",
    "    "
   ]
  },
  {
   "cell_type": "code",
   "execution_count": 113,
   "id": "38311449",
   "metadata": {},
   "outputs": [
    {
     "data": {
      "text/plain": [
       "36"
      ]
     },
     "execution_count": 113,
     "metadata": {},
     "output_type": "execute_result"
    }
   ],
   "source": [
    "sum([create_class_and_check_if_there_are_collisions() for _ in range(100)])"
   ]
  },
  {
   "cell_type": "code",
   "execution_count": 114,
   "id": "d669f8d2",
   "metadata": {},
   "outputs": [
    {
     "data": {
      "text/plain": [
       "0.64"
      ]
     },
     "execution_count": 114,
     "metadata": {},
     "output_type": "execute_result"
    }
   ],
   "source": [
    "(100-36)/100"
   ]
  },
  {
   "cell_type": "code",
   "execution_count": 115,
   "id": "57f4a53a",
   "metadata": {},
   "outputs": [],
   "source": [
    "def make_many_experiments_and_count_them(n):\n",
    "    return (n - sum([create_class_and_check_if_there_are_collisions() for _ in range(n)]))/n"
   ]
  },
  {
   "cell_type": "code",
   "execution_count": 139,
   "id": "1e1dbfe4",
   "metadata": {},
   "outputs": [
    {
     "data": {
      "text/plain": [
       "0.70298"
      ]
     },
     "execution_count": 139,
     "metadata": {},
     "output_type": "execute_result"
    }
   ],
   "source": [
    "make_many_experiments_and_count_them(100000)"
   ]
  },
  {
   "cell_type": "code",
   "execution_count": 140,
   "id": "086eee03",
   "metadata": {},
   "outputs": [],
   "source": [
    "def create_class_and_check_if_there_are_collisions(n):\n",
    "    people = [round(random()*365)+1 for _ in range(n)]\n",
    "    return len(people) == len(set(people))"
   ]
  },
  {
   "cell_type": "code",
   "execution_count": 146,
   "id": "5a4f884a",
   "metadata": {},
   "outputs": [
    {
     "data": {
      "text/plain": [
       "False"
      ]
     },
     "execution_count": 146,
     "metadata": {},
     "output_type": "execute_result"
    }
   ],
   "source": [
    "create_class_and_check_if_there_are_collisions(10)"
   ]
  },
  {
   "cell_type": "code",
   "execution_count": 153,
   "id": "b59bf921",
   "metadata": {},
   "outputs": [],
   "source": [
    "def make_many_experiments_and_count_them(size, n):\n",
    "    return (n - sum([create_class_and_check_if_there_are_collisions(size) \\\n",
    "                     for _ in range(n)]))/n"
   ]
  },
  {
   "cell_type": "code",
   "execution_count": 151,
   "id": "c2d5f2d2",
   "metadata": {},
   "outputs": [
    {
     "data": {
      "text/plain": [
       "0.5663"
      ]
     },
     "execution_count": 151,
     "metadata": {},
     "output_type": "execute_result"
    }
   ],
   "source": [
    "make_many_experiments_and_count_them(25, 10000)"
   ]
  },
  {
   "cell_type": "code",
   "execution_count": 152,
   "id": "577b8304",
   "metadata": {},
   "outputs": [
    {
     "data": {
      "text/plain": [
       "0.1193"
      ]
     },
     "execution_count": 152,
     "metadata": {},
     "output_type": "execute_result"
    }
   ],
   "source": [
    "make_many_experiments_and_count_them(10, 10000)"
   ]
  },
  {
   "cell_type": "code",
   "execution_count": 155,
   "id": "13cfcfcf",
   "metadata": {},
   "outputs": [],
   "source": [
    " probabilities = [make_many_experiments_and_count_them(x, 1000) for x in range(10, 30)]"
   ]
  },
  {
   "cell_type": "code",
   "execution_count": 156,
   "id": "cffdd889",
   "metadata": {},
   "outputs": [
    {
     "data": {
      "text/plain": [
       "[0.116,\n",
       " 0.112,\n",
       " 0.162,\n",
       " 0.182,\n",
       " 0.211,\n",
       " 0.287,\n",
       " 0.249,\n",
       " 0.289,\n",
       " 0.359,\n",
       " 0.376,\n",
       " 0.42,\n",
       " 0.452,\n",
       " 0.484,\n",
       " 0.51,\n",
       " 0.528,\n",
       " 0.571,\n",
       " 0.612,\n",
       " 0.632,\n",
       " 0.635,\n",
       " 0.655]"
      ]
     },
     "execution_count": 156,
     "metadata": {},
     "output_type": "execute_result"
    }
   ],
   "source": [
    "probabilities"
   ]
  },
  {
   "cell_type": "code",
   "execution_count": 157,
   "id": "11a5ac74",
   "metadata": {},
   "outputs": [],
   "source": [
    "%matplotlib inline"
   ]
  },
  {
   "cell_type": "code",
   "execution_count": 158,
   "id": "511081bd",
   "metadata": {},
   "outputs": [],
   "source": [
    "from matplotlib import pyplot as plt"
   ]
  },
  {
   "cell_type": "code",
   "execution_count": 159,
   "id": "67747823",
   "metadata": {},
   "outputs": [
    {
     "data": {
      "text/plain": [
       "[<matplotlib.lines.Line2D at 0x11a2f4b20>]"
      ]
     },
     "execution_count": 159,
     "metadata": {},
     "output_type": "execute_result"
    },
    {
     "data": {
      "image/png": "[encoded data removed]",
      "text/plain": [
       "<Figure size 432x288 with 1 Axes>"
      ]
     },
     "metadata": {
      "needs_background": "light"
     },
     "output_type": "display_data"
    }
   ],
   "source": [
    "plt.plot(probabilities)"
   ]
  },
  {
   "cell_type": "code",
   "execution_count": null,
   "id": "c06f0e00",
   "metadata": {},
   "outputs": [],
   "source": []
  }
 ],
 "metadata": {
  "kernelspec": {
   "display_name": "Python 3 (ipykernel)",
   "language": "python",
   "name": "python3"
  },
  "language_info": {
   "codemirror_mode": {
    "name": "ipython",
    "version": 3
   },
   "file_extension": ".py",
   "mimetype": "text/x-python",
   "name": "python",
   "nbconvert_exporter": "python",
   "pygments_lexer": "ipython3",
   "version": "3.9.6"
  }
 },
 "nbformat": 4,
 "nbformat_minor": 5
}
