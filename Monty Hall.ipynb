{
 "cells": [
  {
   "cell_type": "code",
   "execution_count": 1,
   "id": "376c09a4",
   "metadata": {},
   "outputs": [],
   "source": [
    "doors = [0,0,1]"
   ]
  },
  {
   "cell_type": "code",
   "execution_count": 2,
   "id": "c864163e",
   "metadata": {},
   "outputs": [
    {
     "data": {
      "text/plain": [
       "0"
      ]
     },
     "execution_count": 2,
     "metadata": {},
     "output_type": "execute_result"
    }
   ],
   "source": [
    "doors[0]"
   ]
  },
  {
   "cell_type": "code",
   "execution_count": 3,
   "id": "fcebdbf5",
   "metadata": {},
   "outputs": [
    {
     "data": {
      "text/plain": [
       "0"
      ]
     },
     "execution_count": 3,
     "metadata": {},
     "output_type": "execute_result"
    }
   ],
   "source": [
    "doors[1]"
   ]
  },
  {
   "cell_type": "code",
   "execution_count": 4,
   "id": "5a5ba50b",
   "metadata": {},
   "outputs": [
    {
     "data": {
      "text/plain": [
       "1"
      ]
     },
     "execution_count": 4,
     "metadata": {},
     "output_type": "execute_result"
    }
   ],
   "source": [
    "doors[2]"
   ]
  },
  {
   "cell_type": "code",
   "execution_count": 5,
   "id": "701b0fbe",
   "metadata": {},
   "outputs": [],
   "source": [
    "from random import shuffle"
   ]
  },
  {
   "cell_type": "code",
   "execution_count": 6,
   "id": "253e9d05",
   "metadata": {},
   "outputs": [],
   "source": [
    "shuffle(doors)"
   ]
  },
  {
   "cell_type": "code",
   "execution_count": 7,
   "id": "1792c155",
   "metadata": {},
   "outputs": [
    {
     "data": {
      "text/plain": [
       "1"
      ]
     },
     "execution_count": 7,
     "metadata": {},
     "output_type": "execute_result"
    }
   ],
   "source": [
    "doors[1]"
   ]
  },
  {
   "cell_type": "code",
   "execution_count": 8,
   "id": "d73fe423",
   "metadata": {},
   "outputs": [
    {
     "data": {
      "text/plain": [
       "0"
      ]
     },
     "execution_count": 8,
     "metadata": {},
     "output_type": "execute_result"
    }
   ],
   "source": [
    "doors[0]"
   ]
  },
  {
   "cell_type": "code",
   "execution_count": 9,
   "id": "9ee686be",
   "metadata": {},
   "outputs": [
    {
     "data": {
      "text/plain": [
       "0"
      ]
     },
     "execution_count": 9,
     "metadata": {},
     "output_type": "execute_result"
    }
   ],
   "source": [
    "doors[2]"
   ]
  },
  {
   "cell_type": "code",
   "execution_count": 10,
   "id": "6533c942",
   "metadata": {},
   "outputs": [],
   "source": [
    "shuffle(doors)"
   ]
  },
  {
   "cell_type": "code",
   "execution_count": 11,
   "id": "6e356865",
   "metadata": {},
   "outputs": [
    {
     "data": {
      "text/plain": [
       "0"
      ]
     },
     "execution_count": 11,
     "metadata": {},
     "output_type": "execute_result"
    }
   ],
   "source": [
    "doors[1]"
   ]
  },
  {
   "cell_type": "code",
   "execution_count": 12,
   "id": "0070038f",
   "metadata": {},
   "outputs": [
    {
     "ename": "SyntaxError",
     "evalue": "invalid syntax (2219081168.py, line 1)",
     "output_type": "error",
     "traceback": [
      "\u001b[0;36m  File \u001b[0;32m\"/var/folders/0f/qs3zv29x1wl9clhnr9xb_tm40000gn/T/ipykernel_17681/2219081168.py\"\u001b[0;36m, line \u001b[0;32m1\u001b[0m\n\u001b[0;31m    > shuffle(doors)\u001b[0m\n\u001b[0m    ^\u001b[0m\n\u001b[0;31mSyntaxError\u001b[0m\u001b[0;31m:\u001b[0m invalid syntax\n"
     ]
    }
   ],
   "source": [
    "# > shuffle(doors)\n",
    "# > choose_door(1)\n",
    "# > reveal_goat()\n",
    "# > 2\n",
    "# > choose_door(0)\n",
    "# > open_chosen_door()\n",
    "# > 1\n",
    "\n",
    "\n"
   ]
  },
  {
   "cell_type": "code",
   "execution_count": 13,
   "id": "3637d662",
   "metadata": {},
   "outputs": [],
   "source": [
    "shuffle(doors)"
   ]
  },
  {
   "cell_type": "code",
   "execution_count": 14,
   "id": "ee8fbddc",
   "metadata": {},
   "outputs": [],
   "source": [
    "def choose_door(n):\n",
    "    global chosen_door\n",
    "    chosen_door = n"
   ]
  },
  {
   "cell_type": "code",
   "execution_count": 15,
   "id": "78de878e",
   "metadata": {},
   "outputs": [],
   "source": [
    "choose_door(1)"
   ]
  },
  {
   "cell_type": "code",
   "execution_count": 16,
   "id": "269603b9",
   "metadata": {},
   "outputs": [
    {
     "data": {
      "text/plain": [
       "1"
      ]
     },
     "execution_count": 16,
     "metadata": {},
     "output_type": "execute_result"
    }
   ],
   "source": [
    "chosen_door"
   ]
  },
  {
   "cell_type": "code",
   "execution_count": 24,
   "id": "1922af7c",
   "metadata": {},
   "outputs": [
    {
     "data": {
      "text/plain": [
       "0"
      ]
     },
     "execution_count": 24,
     "metadata": {},
     "output_type": "execute_result"
    }
   ],
   "source": [
    "reveal_goat()"
   ]
  },
  {
   "cell_type": "code",
   "execution_count": 27,
   "id": "4a2682de",
   "metadata": {},
   "outputs": [],
   "source": [
    "def reveal_goat():\n",
    "    # I have to reveal a door that: 1. is different from chosen_door 2. has a 0\n",
    "    # I consider all the doors, one by one, and then I return the first one\n",
    "    # for which those two conditions hold\n",
    "    door_indexes = [0,1,2]\n",
    "    shuffle(door_indexes)\n",
    "    for d in door_indexes:\n",
    "        if d != chosen_door and doors[d] == 0:\n",
    "            return d"
   ]
  },
  {
   "cell_type": "code",
   "execution_count": 33,
   "id": "c3174e2f",
   "metadata": {},
   "outputs": [
    {
     "data": {
      "text/plain": [
       "[2, 0, 0, 2, 2, 0, 0, 0, 2, 2]"
      ]
     },
     "execution_count": 33,
     "metadata": {},
     "output_type": "execute_result"
    }
   ],
   "source": [
    "[reveal_goat() for _ in range(10)]"
   ]
  },
  {
   "cell_type": "code",
   "execution_count": 34,
   "id": "dbd1e5a5",
   "metadata": {},
   "outputs": [
    {
     "data": {
      "text/plain": [
       "1"
      ]
     },
     "execution_count": 34,
     "metadata": {},
     "output_type": "execute_result"
    }
   ],
   "source": [
    "chosen_door"
   ]
  },
  {
   "cell_type": "code",
   "execution_count": 35,
   "id": "6700e116",
   "metadata": {},
   "outputs": [],
   "source": [
    "def open_chosen_door():\n",
    "    return doors[chosen_door]"
   ]
  },
  {
   "cell_type": "code",
   "execution_count": 36,
   "id": "e9358ed4",
   "metadata": {},
   "outputs": [
    {
     "data": {
      "text/plain": [
       "1"
      ]
     },
     "execution_count": 36,
     "metadata": {},
     "output_type": "execute_result"
    }
   ],
   "source": [
    "open_chosen_door()"
   ]
  },
  {
   "cell_type": "code",
   "execution_count": 37,
   "id": "e26b139a",
   "metadata": {},
   "outputs": [],
   "source": [
    "shuffle(doors)"
   ]
  },
  {
   "cell_type": "code",
   "execution_count": 38,
   "id": "c1442a07",
   "metadata": {},
   "outputs": [],
   "source": [
    "choose_door(2)"
   ]
  },
  {
   "cell_type": "code",
   "execution_count": 39,
   "id": "2d3aec19",
   "metadata": {},
   "outputs": [
    {
     "data": {
      "text/plain": [
       "1"
      ]
     },
     "execution_count": 39,
     "metadata": {},
     "output_type": "execute_result"
    }
   ],
   "source": [
    "reveal_goat()"
   ]
  },
  {
   "cell_type": "code",
   "execution_count": 42,
   "id": "abfe83df",
   "metadata": {},
   "outputs": [],
   "source": [
    "choose_door(0)"
   ]
  },
  {
   "cell_type": "code",
   "execution_count": 43,
   "id": "8a48b2f1",
   "metadata": {},
   "outputs": [
    {
     "data": {
      "text/plain": [
       "1"
      ]
     },
     "execution_count": 43,
     "metadata": {},
     "output_type": "execute_result"
    }
   ],
   "source": [
    "open_chosen_door()"
   ]
  },
  {
   "cell_type": "code",
   "execution_count": 44,
   "id": "73929586",
   "metadata": {},
   "outputs": [],
   "source": [
    "shuffle(doors)"
   ]
  },
  {
   "cell_type": "code",
   "execution_count": 45,
   "id": "abe6a662",
   "metadata": {},
   "outputs": [],
   "source": [
    "choose_door(0)"
   ]
  },
  {
   "cell_type": "code",
   "execution_count": 46,
   "id": "69c57c9d",
   "metadata": {},
   "outputs": [
    {
     "data": {
      "text/plain": [
       "2"
      ]
     },
     "execution_count": 46,
     "metadata": {},
     "output_type": "execute_result"
    }
   ],
   "source": [
    "reveal_goat()"
   ]
  },
  {
   "cell_type": "code",
   "execution_count": 47,
   "id": "1b6693cd",
   "metadata": {},
   "outputs": [],
   "source": [
    "choose_door(1)"
   ]
  },
  {
   "cell_type": "code",
   "execution_count": 48,
   "id": "406f5d84",
   "metadata": {},
   "outputs": [
    {
     "data": {
      "text/plain": [
       "1"
      ]
     },
     "execution_count": 48,
     "metadata": {},
     "output_type": "execute_result"
    }
   ],
   "source": [
    "open_chosen_door()"
   ]
  },
  {
   "cell_type": "code",
   "execution_count": 49,
   "id": "29730365",
   "metadata": {},
   "outputs": [],
   "source": [
    "shuffle(doors)"
   ]
  },
  {
   "cell_type": "code",
   "execution_count": 50,
   "id": "07f4610c",
   "metadata": {},
   "outputs": [],
   "source": [
    "choose_door(1)"
   ]
  },
  {
   "cell_type": "code",
   "execution_count": 51,
   "id": "724e0ac1",
   "metadata": {},
   "outputs": [
    {
     "data": {
      "text/plain": [
       "2"
      ]
     },
     "execution_count": 51,
     "metadata": {},
     "output_type": "execute_result"
    }
   ],
   "source": [
    "reveal_goat()"
   ]
  },
  {
   "cell_type": "code",
   "execution_count": 52,
   "id": "0b800b3d",
   "metadata": {},
   "outputs": [
    {
     "data": {
      "text/plain": [
       "0"
      ]
     },
     "execution_count": 52,
     "metadata": {},
     "output_type": "execute_result"
    }
   ],
   "source": [
    "open_chosen_door()"
   ]
  },
  {
   "cell_type": "code",
   "execution_count": 53,
   "id": "818a959b",
   "metadata": {},
   "outputs": [],
   "source": [
    "from random import choice\n",
    "def play_keep_strategy():\n",
    "    shuffle(doors)\n",
    "    choose_door(choice([0,1,2]))\n",
    "    reveal_goat()\n",
    "    return open_chosen_door()"
   ]
  },
  {
   "cell_type": "code",
   "execution_count": 77,
   "id": "b8cef21d",
   "metadata": {},
   "outputs": [
    {
     "data": {
      "text/plain": [
       "0.33217"
      ]
     },
     "execution_count": 77,
     "metadata": {},
     "output_type": "execute_result"
    }
   ],
   "source": [
    "sum([play_keep_strategy() for _ in range(100000)])/100000"
   ]
  },
  {
   "cell_type": "code",
   "execution_count": 70,
   "id": "49c6d7c5",
   "metadata": {},
   "outputs": [],
   "source": [
    "def play_switch_strategy():\n",
    "    shuffle(doors)\n",
    "    choose_door(choice([0,1,2]))\n",
    "    goat = reveal_goat()\n",
    "    choose_door(3 - goat - chosen_door)\n",
    "    return open_chosen_door()\n",
    "    \n",
    "    "
   ]
  },
  {
   "cell_type": "code",
   "execution_count": 76,
   "id": "54c8e3f0",
   "metadata": {},
   "outputs": [
    {
     "data": {
      "text/plain": [
       "691"
      ]
     },
     "execution_count": 76,
     "metadata": {},
     "output_type": "execute_result"
    }
   ],
   "source": [
    "sum([play_switch_strategy() for _ in range(1000)])"
   ]
  },
  {
   "cell_type": "code",
   "execution_count": 78,
   "id": "fde8c898",
   "metadata": {},
   "outputs": [],
   "source": [
    "doors = [0,0,0,1]"
   ]
  },
  {
   "cell_type": "code",
   "execution_count": 79,
   "id": "233286a1",
   "metadata": {},
   "outputs": [],
   "source": [
    "def reveal_goat():\n",
    "    # I have to reveal a door that: 1. is different from chosen_door 2. has a 0\n",
    "    # I consider all the doors, one by one, and then I return the first one\n",
    "    # for which those two conditions hold\n",
    "    door_indexes = list(range(len(doors)))\n",
    "    shuffle(door_indexes)\n",
    "    for d in door_indexes:\n",
    "        if d != chosen_door and doors[d] == 0:\n",
    "            return d"
   ]
  },
  {
   "cell_type": "code",
   "execution_count": 104,
   "id": "5ed05bd4",
   "metadata": {},
   "outputs": [],
   "source": [
    "def play_switch_strategy():\n",
    "    shuffle(doors)\n",
    "    choose_door(choice(range(len(doors))))\n",
    "    #print(\"chosen door\", chosen_door)\n",
    "    goat = reveal_goat()\n",
    "    #print(\"revealed goat\", goat)\n",
    "    door_indexes = set(range(len(doors)))\n",
    "    available_doors = door_indexes - {goat} - {chosen_door}\n",
    "    new_door = choice(list(available_doors))\n",
    "    choose_door(new_door)\n",
    "    # print(\"new chosen door\", new_door)\n",
    "    return open_chosen_door()"
   ]
  },
  {
   "cell_type": "code",
   "execution_count": 117,
   "id": "247810bc",
   "metadata": {},
   "outputs": [
    {
     "data": {
      "text/plain": [
       "0.533909"
      ]
     },
     "execution_count": 117,
     "metadata": {},
     "output_type": "execute_result"
    }
   ],
   "source": [
    "sum([play_switch_strategy() for _ in range(1000000)])/1000000"
   ]
  },
  {
   "cell_type": "code",
   "execution_count": 115,
   "id": "2d26e06b",
   "metadata": {},
   "outputs": [],
   "source": [
    "doors = [0,0,1,0,1]"
   ]
  },
  {
   "cell_type": "code",
   "execution_count": 129,
   "id": "6ee1adf0",
   "metadata": {},
   "outputs": [],
   "source": [
    "def reveal_goats(n):\n",
    "    # I have to reveal a door that: 1. is different from chosen_door 2. has a 0\n",
    "    # I consider all the doors, one by one, and then I return the first one\n",
    "    # for which those two conditions hold\n",
    "    goats = []\n",
    "    door_indexes = list(range(len(doors)))\n",
    "    shuffle(door_indexes)\n",
    "    for d in door_indexes:\n",
    "        if d != chosen_door and doors[d] == 0:\n",
    "            goats += [d]\n",
    "        if len(goats) == n:\n",
    "            return set(goats)"
   ]
  },
  {
   "cell_type": "code",
   "execution_count": 130,
   "id": "9a4cb76f",
   "metadata": {},
   "outputs": [
    {
     "data": {
      "text/plain": [
       "[1, 0, 0, 0, 1]"
      ]
     },
     "execution_count": 130,
     "metadata": {},
     "output_type": "execute_result"
    }
   ],
   "source": [
    "doors"
   ]
  },
  {
   "cell_type": "code",
   "execution_count": 135,
   "id": "0bd4e07a",
   "metadata": {},
   "outputs": [],
   "source": [
    "choose_door(3)"
   ]
  },
  {
   "cell_type": "code",
   "execution_count": 152,
   "id": "49c48e2f",
   "metadata": {},
   "outputs": [],
   "source": [
    "def play_switch_strategy(n_doors, n_prizes, n_reveals):\n",
    "    global doors\n",
    "    doors = [0]*(n_doors - n_prizes) + [1] * n_prizes\n",
    "    shuffle(doors)\n",
    "    choose_door(choice(range(len(doors))))\n",
    "    #print(\"chosen door\", chosen_door)\n",
    "    goats = reveal_goats(n_reveals)\n",
    "    #print(\"revealed goat\", goat)\n",
    "    door_indexes = set(range(len(doors)))\n",
    "    available_doors = door_indexes - goats - {chosen_door}\n",
    "    new_door = choice(list(available_doors))\n",
    "    choose_door(new_door)\n",
    "    # print(\"new chosen door\", new_door)\n",
    "    return open_chosen_door()"
   ]
  },
  {
   "cell_type": "code",
   "execution_count": 163,
   "id": "a3d7b227",
   "metadata": {},
   "outputs": [
    {
     "data": {
      "text/plain": [
       "0.45026"
      ]
     },
     "execution_count": 163,
     "metadata": {},
     "output_type": "execute_result"
    }
   ],
   "source": [
    "sum([play_switch_strategy(10,3,3) for _ in range(100000)])/100000"
   ]
  },
  {
   "cell_type": "code",
   "execution_count": 148,
   "id": "f79418b6",
   "metadata": {},
   "outputs": [
    {
     "name": "stdout",
     "output_type": "stream",
     "text": [
      "> \u001b[0;32m/var/folders/0f/qs3zv29x1wl9clhnr9xb_tm40000gn/T/ipykernel_17681/2239430738.py\u001b[0m(10)\u001b[0;36mplay_switch_strategy\u001b[0;34m()\u001b[0m\n",
      "\u001b[0;32m      8 \u001b[0;31m    \u001b[0;31m#print(\"revealed goat\", goat)\u001b[0m\u001b[0;34m\u001b[0m\u001b[0;34m\u001b[0m\u001b[0;34m\u001b[0m\u001b[0m\n",
      "\u001b[0m\u001b[0;32m      9 \u001b[0;31m    \u001b[0mdoor_indexes\u001b[0m \u001b[0;34m=\u001b[0m \u001b[0mset\u001b[0m\u001b[0;34m(\u001b[0m\u001b[0mrange\u001b[0m\u001b[0;34m(\u001b[0m\u001b[0mlen\u001b[0m\u001b[0;34m(\u001b[0m\u001b[0mdoors\u001b[0m\u001b[0;34m)\u001b[0m\u001b[0;34m)\u001b[0m\u001b[0;34m)\u001b[0m\u001b[0;34m\u001b[0m\u001b[0;34m\u001b[0m\u001b[0m\n",
      "\u001b[0m\u001b[0;32m---> 10 \u001b[0;31m    \u001b[0mavailable_doors\u001b[0m \u001b[0;34m=\u001b[0m \u001b[0mdoor_indexes\u001b[0m \u001b[0;34m-\u001b[0m \u001b[0;34m{\u001b[0m\u001b[0mgoat\u001b[0m\u001b[0;34m}\u001b[0m \u001b[0;34m-\u001b[0m \u001b[0;34m{\u001b[0m\u001b[0mchosen_door\u001b[0m\u001b[0;34m}\u001b[0m\u001b[0;34m\u001b[0m\u001b[0;34m\u001b[0m\u001b[0m\n",
      "\u001b[0m\u001b[0;32m     11 \u001b[0;31m    \u001b[0mnew_door\u001b[0m \u001b[0;34m=\u001b[0m \u001b[0mchoice\u001b[0m\u001b[0;34m(\u001b[0m\u001b[0mlist\u001b[0m\u001b[0;34m(\u001b[0m\u001b[0mavailable_doors\u001b[0m\u001b[0;34m)\u001b[0m\u001b[0;34m)\u001b[0m\u001b[0;34m\u001b[0m\u001b[0;34m\u001b[0m\u001b[0m\n",
      "\u001b[0m\u001b[0;32m     12 \u001b[0;31m    \u001b[0mchoose_door\u001b[0m\u001b[0;34m(\u001b[0m\u001b[0mnew_door\u001b[0m\u001b[0;34m)\u001b[0m\u001b[0;34m\u001b[0m\u001b[0;34m\u001b[0m\u001b[0m\n",
      "\u001b[0m\n",
      "ipdb> door_indexes\n",
      "{0, 1, 2, 3, 4, 5, 6, 7, 8, 9}\n",
      "--KeyboardInterrupt--\n",
      "\n",
      "KeyboardInterrupt: Interrupted by user\n"
     ]
    }
   ],
   "source": [
    "%debug"
   ]
  },
  {
   "cell_type": "code",
   "execution_count": null,
   "id": "6260a03c",
   "metadata": {},
   "outputs": [],
   "source": []
  }
 ],
 "metadata": {
  "kernelspec": {
   "display_name": "Python 3 (ipykernel)",
   "language": "python",
   "name": "python3"
  },
  "language_info": {
   "codemirror_mode": {
    "name": "ipython",
    "version": 3
   },
   "file_extension": ".py",
   "mimetype": "text/x-python",
   "name": "python",
   "nbconvert_exporter": "python",
   "pygments_lexer": "ipython3",
   "version": "3.9.6"
  }
 },
 "nbformat": 4,
 "nbformat_minor": 5
}
