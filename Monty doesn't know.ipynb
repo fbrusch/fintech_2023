{
 "cells": [
  {
   "cell_type": "code",
   "execution_count": 19,
   "id": "4d244350",
   "metadata": {},
   "outputs": [],
   "source": [
    "doors = [0,0,1]"
   ]
  },
  {
   "cell_type": "code",
   "execution_count": 57,
   "id": "f54ee8c0",
   "metadata": {},
   "outputs": [],
   "source": [
    "from random import choice, shuffle, random"
   ]
  },
  {
   "cell_type": "code",
   "execution_count": 21,
   "id": "5e8ec7b2",
   "metadata": {},
   "outputs": [],
   "source": [
    "def choose_door(d):\n",
    "    global chosen_door\n",
    "    chosen_door = d"
   ]
  },
  {
   "cell_type": "code",
   "execution_count": 22,
   "id": "ff8aea9f",
   "metadata": {},
   "outputs": [],
   "source": [
    "def monty_choose():\n",
    "    available_doors = set(range(len(doors))) - {chosen_door}\n",
    "    return choice(list(available_doors))\n",
    "    "
   ]
  },
  {
   "cell_type": "code",
   "execution_count": 29,
   "id": "e6472353",
   "metadata": {},
   "outputs": [],
   "source": [
    "def open_chosen_door():\n",
    "    return doors[chosen_door]"
   ]
  },
  {
   "cell_type": "code",
   "execution_count": 58,
   "id": "ded88e66",
   "metadata": {
    "scrolled": true
   },
   "outputs": [],
   "source": [
    "def play_against_monty(switch=0):\n",
    "    shuffle(doors)\n",
    "    my_choice = choice(range(len(doors)))\n",
    "    choose_door(my_choice)\n",
    "    monty_choice = monty_choose()\n",
    "    if(doors[monty_choice] == 1): return 0\n",
    "    if random() < switch:\n",
    "        available_doors = set(range(len(doors))) - {monty_choice} - {chosen_door}\n",
    "        choose_door(choice(list(available_doors)))\n",
    "    return open_chosen_door()\n"
   ]
  }
 ],
 "metadata": {
  "kernelspec": {
   "display_name": "Python 3 (ipykernel)",
   "language": "python",
   "name": "python3"
  },
  "language_info": {
   "codemirror_mode": {
    "name": "ipython",
    "version": 3
   },
   "file_extension": ".py",
   "mimetype": "text/x-python",
   "name": "python",
   "nbconvert_exporter": "python",
   "pygments_lexer": "ipython3",
   "version": "3.9.6"
  }
 },
 "nbformat": 4,
 "nbformat_minor": 5
}
